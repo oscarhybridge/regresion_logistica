{
 "cells": [
  {
   "cell_type": "code",
   "execution_count": 29,
   "id": "69f361f2-7b9f-4812-afee-e5df7d398fd9",
   "metadata": {},
   "outputs": [],
   "source": [
    "# Importar las librerías necesarias\n",
    "\n",
    "import pandas as pd\n",
    "import numpy as np\n",
    "from sklearn.model_selection import train_test_split\n",
    "from sklearn.preprocessing import StandardScaler, OneHotEncoder\n",
    "from sklearn.linear_model import LogisticRegression\n",
    "from sklearn.metrics import classification_report, confusion_matrix, ConfusionMatrixDisplay\n",
    "from sklearn.compose import ColumnTransformer\n",
    "from sklearn.pipeline import Pipeline\n",
    "import matplotlib.pyplot as plt\n",
    "import warnings\n",
    "warnings.filterwarnings('ignore')"
   ]
  },
  {
   "cell_type": "code",
   "execution_count": 30,
   "id": "7d191d15-0f53-4c17-8f77-9dc691766dae",
   "metadata": {},
   "outputs": [
    {
     "name": "stdout",
     "output_type": "stream",
     "text": [
      "Descargando datos desde: https://hybridge-education-machine-learning-datasets.s3.us-east-1.amazonaws.com/Fraud.csv\n",
      "Carga de Datos: Exitosa ✅\n"
     ]
    }
   ],
   "source": [
    "\n",
    "# 1. Carga del Conjunto de Datos\n",
    "# ==============================================================================\n",
    "\n",
    "# URL proporcionada por el usuario\n",
    "url = \"https://hybridge-education-machine-learning-datasets.s3.us-east-1.amazonaws.com/Fraud.csv\"\n",
    "print(f\"Descargando datos desde: {url}\")\n",
    "\n",
    "try:\n",
    "    # Cargar el dataset en un DataFrame de pandas\n",
    "    df = pd.read_csv(url)\n",
    "    print(\"Carga de Datos: Exitosa ✅\")\n",
    "except Exception as e:\n",
    "    print(f\"Error al cargar los datos desde la URL. Verifica la conexión o la URL. Error: {e}\")\n",
    "    # Si la carga falla, se detiene la ejecución del laboratorio\n",
    "    exit()"
   ]
  },
  {
   "cell_type": "code",
   "execution_count": 31,
   "id": "3435fb36-c150-492b-88c2-424b30ce7171",
   "metadata": {},
   "outputs": [
    {
     "name": "stdout",
     "output_type": "stream",
     "text": [
      "\n",
      "--- 2. Exploración de Datos ---\n",
      "Primeras 5 filas del dataset:\n",
      "   step      type    amount     nameOrig  oldbalanceOrg  newbalanceOrig  \\\n",
      "0     1   PAYMENT   9839.64  C1231006815       170136.0       160296.36   \n",
      "1     1   PAYMENT   1864.28  C1666544295        21249.0        19384.72   \n",
      "2     1  TRANSFER    181.00  C1305486145          181.0            0.00   \n",
      "3     1  CASH_OUT    181.00   C840083671          181.0            0.00   \n",
      "4     1   PAYMENT  11668.14  C2048537720        41554.0        29885.86   \n",
      "\n",
      "      nameDest  oldbalanceDest  newbalanceDest  isFraud  isFlaggedFraud  \n",
      "0  M1979787155             0.0             0.0        0               0  \n",
      "1  M2044282225             0.0             0.0        0               0  \n",
      "2   C553264065             0.0             0.0        1               0  \n",
      "3    C38997010         21182.0             0.0        1               0  \n",
      "4  M1230701703             0.0             0.0        0               0  \n",
      "\n",
      "Información de las columnas y tipos de datos:\n",
      "<class 'pandas.core.frame.DataFrame'>\n",
      "RangeIndex: 6362620 entries, 0 to 6362619\n",
      "Data columns (total 11 columns):\n",
      " #   Column          Dtype  \n",
      "---  ------          -----  \n",
      " 0   step            int64  \n",
      " 1   type            object \n",
      " 2   amount          float64\n",
      " 3   nameOrig        object \n",
      " 4   oldbalanceOrg   float64\n",
      " 5   newbalanceOrig  float64\n",
      " 6   nameDest        object \n",
      " 7   oldbalanceDest  float64\n",
      " 8   newbalanceDest  float64\n",
      " 9   isFraud         int64  \n",
      " 10  isFlaggedFraud  int64  \n",
      "dtypes: float64(5), int64(3), object(3)\n",
      "memory usage: 534.0+ MB\n"
     ]
    }
   ],
   "source": [
    "# 2. Exploración de Datos (Data Exploration)\n",
    "# ==============================================================================\n",
    "\n",
    "print(\"\\n--- 2. Exploración de Datos ---\")\n",
    "print(\"Primeras 5 filas del dataset:\")\n",
    "print(df.head())\n",
    "print(\"\\nInformación de las columnas y tipos de datos:\")\n",
    "df.info()"
   ]
  },
  {
   "cell_type": "code",
   "execution_count": 32,
   "id": "a6192543-6d4d-48a2-b8e2-6dbb783eaedf",
   "metadata": {},
   "outputs": [
    {
     "data": {
      "text/plain": [
       "6362620"
      ]
     },
     "execution_count": 32,
     "metadata": {},
     "output_type": "execute_result"
    }
   ],
   "source": [
    "len(df)"
   ]
  },
  {
   "cell_type": "markdown",
   "id": "85873aee-e9b3-4b50-8540-267fce1a7228",
   "metadata": {},
   "source": [
    "# ¡¡¡6,362,620 OBSERVACIONES!!!"
   ]
  },
  {
   "cell_type": "code",
   "execution_count": 33,
   "id": "94a50b91-6b58-4a8b-8283-9dd7ceb00b72",
   "metadata": {},
   "outputs": [
    {
     "name": "stdout",
     "output_type": "stream",
     "text": [
      "\n",
      "Distribución de la variable objetivo 'isFraud':\n",
      "isFraud\n",
      "0    6354407\n",
      "1       8213\n",
      "Name: count, dtype: int64\n",
      "Porcentaje de Fraude: 0.1291%\n",
      "El dataset está extremadamente desbalanceado.\n",
      "\n",
      "Valores únicos en columnas categóricas clave:\n",
      "['PAYMENT' 'TRANSFER' 'CASH_OUT' 'DEBIT' 'CASH_IN']\n",
      "Valores únicos en 'nameOrig': 6353307 (¡Demasiados, descartar!)\n",
      "Valores únicos en 'nameDest': 2722362 (¡Demasiados, descartar!)\n"
     ]
    }
   ],
   "source": [
    "# Verificar la distribución de la variable objetivo (isFraud)\n",
    "# El desbalance de clases es crítico en este tipo de problema.\n",
    "clase_fraude = df['isFraud'].value_counts()\n",
    "print(\"\\nDistribución de la variable objetivo 'isFraud':\")\n",
    "print(clase_fraude)\n",
    "print(f\"Porcentaje de Fraude: {clase_fraude[1] / clase_fraude.sum() * 100:.4f}%\")\n",
    "print(\"El dataset está extremadamente desbalanceado.\")\n",
    "\n",
    "# Columnas con valores únicos (para identificar categóricas y columnas a descartar)\n",
    "print(\"\\nValores únicos en columnas categóricas clave:\")\n",
    "print(df['type'].unique())\n",
    "print(f\"Valores únicos en 'nameOrig': {df['nameOrig'].nunique()} (¡Demasiados, descartar!)\")\n",
    "print(f\"Valores únicos en 'nameDest': {df['nameDest'].nunique()} (¡Demasiados, descartar!)\")\n"
   ]
  },
  {
   "cell_type": "code",
   "execution_count": 34,
   "id": "3c48f603",
   "metadata": {},
   "outputs": [
    {
     "name": "stdout",
     "output_type": "stream",
     "text": [
      "\n",
      "--- 3. Preprocesamiento de Datos ---\n",
      "Tamaño de Entrenamiento: 5090096 filas\n",
      "Tamaño de Prueba: 1272524 filas\n"
     ]
    }
   ],
   "source": [
    "\n",
    "# 3. Preprocesamiento de Datos (Data Preprocessing)\n",
    "# ==============================================================================\n",
    "\n",
    "print(\"\\n--- 3. Preprocesamiento de Datos ---\")\n",
    "\n",
    "# La columna 'isFlaggedFraud' es una bandera de simulación y no una característica de ML.\n",
    "# Las columnas 'nameOrig' y 'nameDest' tienen demasiados valores únicos (alta cardinalidad) \n",
    "# y son difíciles de usar directamente en Regresión Logística. Se descartan.\n",
    "X = df.drop(columns=['isFraud', 'isFlaggedFraud', 'nameOrig', 'nameDest'])\n",
    "y = df['isFraud']\n",
    "\n",
    "# Definir columnas numéricas y categóricas restantes\n",
    "# 'step' y 'amount' son numéricas. Las columnas 'oldbalanceOrg', 'newbalanceOrg', etc. también lo son.\n",
    "# 'type' es la única categórica significativa restante.\n",
    "numerical_features = X.select_dtypes(include=np.number).columns.tolist()\n",
    "categorical_features = X.select_dtypes(include='object').columns.tolist() # Debería ser solo ['type']\n",
    "\n",
    "# Crear el Preprocesador (usando ColumnTransformer y Pipeline)\n",
    "# 1. Escalar características numéricas (StandardScaler)\n",
    "# 2. Codificar características categóricas (OneHotEncoder)\n",
    "preprocessor = ColumnTransformer(\n",
    "    transformers=[\n",
    "        ('num', StandardScaler(), numerical_features),\n",
    "        ('cat', OneHotEncoder(handle_unknown='ignore'), categorical_features)\n",
    "    ],\n",
    "    remainder='passthrough' # Mantiene cualquier otra columna (aunque no debería haber)\n",
    ")\n",
    "\n",
    "# Dividir el conjunto de datos\n",
    "# Usar 'stratify=y' es esencial para mantener la proporción de fraude en ambos conjuntos\n",
    "X_train, X_test, y_train, y_test = train_test_split(X, y, test_size=0.2, random_state=42, stratify=y)\n",
    "print(f\"Tamaño de Entrenamiento: {len(X_train)} filas\")\n",
    "print(f\"Tamaño de Prueba: {len(X_test)} filas\")\n"
   ]
  },
  {
   "cell_type": "code",
   "execution_count": 35,
   "id": "11c1f65a",
   "metadata": {},
   "outputs": [
    {
     "name": "stdout",
     "output_type": "stream",
     "text": [
      "\n",
      "--- 4. Entrenamiento del Modelo ---\n",
      "Modelo de Regresión Logística entrenado exitosamente.\n",
      "El entrenamiento ha compensado el desbalance de clases.\n"
     ]
    }
   ],
   "source": [
    "#4. Entrenamiento del Modelo (Model Training)\n",
    "# ==============================================================================\n",
    "\n",
    "print(\"\\n--- 4. Entrenamiento del Modelo ---\")\n",
    "\n",
    "# Crear el Pipeline final: Preprocesamiento -> Regresión Logística\n",
    "# Se usa 'class_weight='balanced'' para mitigar el extremo desbalance de clases,\n",
    "# dando más peso a la clase minoritaria (fraude).\n",
    "model_pipeline = Pipeline(steps=[\n",
    "    ('preprocessor', preprocessor),\n",
    "    ('classifier', LogisticRegression(solver='liblinear', random_state=42, class_weight='balanced'))\n",
    "])\n",
    "\n",
    "# Entrenar el modelo\n",
    "model_pipeline.fit(X_train, y_train)\n",
    "print(\"Modelo de Regresión Logística entrenado exitosamente.\")\n",
    "print(\"El entrenamiento ha compensado el desbalance de clases.\")"
   ]
  },
  {
   "cell_type": "code",
   "execution_count": 36,
   "id": "ccaff7ea",
   "metadata": {},
   "outputs": [
    {
     "name": "stdout",
     "output_type": "stream",
     "text": [
      "\n",
      "--- 5. Evaluación del Desempeño ---\n",
      "\n",
      "Reporte de Clasificación (Conjunto de Prueba):\n",
      "                 precision    recall  f1-score   support\n",
      "\n",
      "   Legítima (0)       1.00      0.95      0.97   1270881\n",
      "Fraudulenta (1)       0.02      0.96      0.05      1643\n",
      "\n",
      "       accuracy                           0.95   1272524\n",
      "      macro avg       0.51      0.96      0.51   1272524\n",
      "   weighted avg       1.00      0.95      0.97   1272524\n",
      "\n",
      "\n",
      "Matriz de Confusión (para la clase Fraudulenta - 1):\n",
      "[[1206584   64297]\n",
      " [     64    1579]]\n",
      "\n",
      "Análisis de Desempeño (Clase Fraudulenta - 1):\n",
      "Verdaderos Positivos (VP): 1579\n",
      "Falsos Negativos (FN): 64\n",
      "Falsos Positivos (FP): 64297\n",
      "\n",
      "Recall para la clase Fraudulenta (VP / (VP + FN)): 0.9610\n"
     ]
    }
   ],
   "source": [
    "# 5. Evaluación del Desempeño (Performance Evaluation)\n",
    "# ==============================================================================\n",
    "\n",
    "print(\"\\n--- 5. Evaluación del Desempeño ---\")\n",
    "\n",
    "# Predicciones\n",
    "y_pred_test = model_pipeline.predict(X_test)\n",
    "\n",
    "# Reporte de Clasificación (Precision, Recall, F1-score)\n",
    "print(\"\\nReporte de Clasificación (Conjunto de Prueba):\")\n",
    "print(classification_report(y_test, y_pred_test, target_names=['Legítima (0)', 'Fraudulenta (1)']))\n",
    "\n",
    "# Matriz de Confusión\n",
    "cm = confusion_matrix(y_test, y_pred_test)\n",
    "print(\"\\nMatriz de Confusión (para la clase Fraudulenta - 1):\")\n",
    "print(cm)\n",
    "\n",
    "# Análisis de la Matriz de Confusión para Detección de Fraude\n",
    "print(\"\\nAnálisis de Desempeño (Clase Fraudulenta - 1):\")\n",
    "VP = cm[1, 1]  # Verdaderos Positivos: Fraudes detectados correctamente\n",
    "FN = cm[1, 0]  # Falsos Negativos: Fraudes no detectados (el error más costoso)\n",
    "FP = cm[0, 1]  # Falsos Positivos: Legítimas marcadas como fraude (falsas alarmas)\n",
    "\n",
    "print(f\"Verdaderos Positivos (VP): {VP}\")\n",
    "print(f\"Falsos Negativos (FN): {FN}\")\n",
    "print(f\"Falsos Positivos (FP): {FP}\")\n",
    "\n",
    "# El **Recall** (Sensibilidad) es la métrica más importante para la detección de fraude, \n",
    "# ya que mide la capacidad del modelo para capturar la mayoría de los casos de fraude real.\n",
    "try:\n",
    "    recall_fraude = VP / (VP + FN)\n",
    "    print(f\"\\nRecall para la clase Fraudulenta (VP / (VP + FN)): {recall_fraude:.4f}\")\n",
    "except ZeroDivisionError:\n",
    "    print(\"\\nNo se pudieron calcular métricas de fraude. Verifica los datos.\")\n",
    "\n",
    "# Mostrar la Matriz de Confusión de forma visual (solo para referencia)\n",
    "# disp = ConfusionMatrixDisplay(confusion_matrix=cm, display_labels=['Legítima', 'Fraudulenta'])\n",
    "# disp.plot(cmap=plt.cm.Blues)\n",
    "# plt.title(\"Matriz de Confusión de Regresión Logística\")\n",
    "# plt.show()\n",
    "\n",
    "# ==============================================================================\n",
    "# Fin del Laboratorio\n",
    "# =============================================================================="
   ]
  }
 ],
 "metadata": {
  "kernelspec": {
   "display_name": "Python 3",
   "language": "python",
   "name": "python3"
  },
  "language_info": {
   "codemirror_mode": {
    "name": "ipython",
    "version": 3
   },
   "file_extension": ".py",
   "mimetype": "text/x-python",
   "name": "python",
   "nbconvert_exporter": "python",
   "pygments_lexer": "ipython3",
   "version": "3.12.10"
  }
 },
 "nbformat": 4,
 "nbformat_minor": 5
}
